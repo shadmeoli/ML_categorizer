{
 "cells": [
  {
   "cell_type": "code",
   "execution_count": 5,
   "metadata": {
    "id": "veoyEDgcrcg_"
   },
   "outputs": [],
   "source": [
    "from sklearn.feature_extraction.text import TfidfVectorizer\n",
    "from sklearn.ensemble import RandomForestClassifier\n",
    "from sklearn import preprocessing\n",
    "import pandas as pd\n",
    "import json\n",
    "import pickle"
   ]
  },
  {
   "cell_type": "code",
   "execution_count": 23,
   "metadata": {
    "id": "lp_n6hPnl9ek"
   },
   "outputs": [
    {
     "data": {
      "text/html": [
       "<div>\n",
       "<style scoped>\n",
       "    .dataframe tbody tr th:only-of-type {\n",
       "        vertical-align: middle;\n",
       "    }\n",
       "\n",
       "    .dataframe tbody tr th {\n",
       "        vertical-align: top;\n",
       "    }\n",
       "\n",
       "    .dataframe thead th {\n",
       "        text-align: right;\n",
       "    }\n",
       "</style>\n",
       "<table border=\"1\" class=\"dataframe\">\n",
       "  <thead>\n",
       "    <tr style=\"text-align: right;\">\n",
       "      <th></th>\n",
       "      <th>id</th>\n",
       "      <th>category</th>\n",
       "      <th>title</th>\n",
       "      <th>body</th>\n",
       "    </tr>\n",
       "  </thead>\n",
       "  <tbody>\n",
       "    <tr>\n",
       "      <th>0</th>\n",
       "      <td>5639</td>\n",
       "      <td>International_Finance</td>\n",
       "      <td>How Has Devaluation of the Yuan Impacted Globa...</td>\n",
       "      <td>How Has the Devaluation of the Yuan Impacted G...</td>\n",
       "    </tr>\n",
       "    <tr>\n",
       "      <th>1</th>\n",
       "      <td>2673</td>\n",
       "      <td>Earning_Reports</td>\n",
       "      <td>Qorvo® Announces Fiscal 2022 Third Quarter Fin...</td>\n",
       "      <td>GREENSBORO, N.C., Feb. 02, 2022 (GLOBE NEWSWIR...</td>\n",
       "    </tr>\n",
       "    <tr>\n",
       "      <th>2</th>\n",
       "      <td>2056</td>\n",
       "      <td>Commodities</td>\n",
       "      <td>Why Gatos Silver Stock Fell Another 15.5% at t...</td>\n",
       "      <td>Shares of Gatos Silver (NYSE:GATO) fell 15.5% ...</td>\n",
       "    </tr>\n",
       "    <tr>\n",
       "      <th>3</th>\n",
       "      <td>3455</td>\n",
       "      <td>Economy</td>\n",
       "      <td>Healthcare industry expects Budget 2022 to hik...</td>\n",
       "      <td>Healthcare industry expects Budget 2022 to hik...</td>\n",
       "    </tr>\n",
       "    <tr>\n",
       "      <th>4</th>\n",
       "      <td>4406</td>\n",
       "      <td>Fraud</td>\n",
       "      <td>American FX Fund CEO Sent to Jail for Running ...</td>\n",
       "      <td>The U.S Federal Bureau of Investigation (FBI) ...</td>\n",
       "    </tr>\n",
       "    <tr>\n",
       "      <th>...</th>\n",
       "      <td>...</td>\n",
       "      <td>...</td>\n",
       "      <td>...</td>\n",
       "      <td>...</td>\n",
       "    </tr>\n",
       "    <tr>\n",
       "      <th>8037</th>\n",
       "      <td>10024</td>\n",
       "      <td>Real_Estate</td>\n",
       "      <td>United Real Estate expands to Alabama with 2nd...</td>\n",
       "      <td>Dallas-based brokerage and franchisor United R...</td>\n",
       "    </tr>\n",
       "    <tr>\n",
       "      <th>8038</th>\n",
       "      <td>167</td>\n",
       "      <td>Capital</td>\n",
       "      <td>CTDOT Marks Transit Equity Day 2022 with Commi...</td>\n",
       "      <td>(Newington, CT) - The Connecticut Department o...</td>\n",
       "    </tr>\n",
       "    <tr>\n",
       "      <th>8039</th>\n",
       "      <td>2533</td>\n",
       "      <td>Earning_Reports</td>\n",
       "      <td>Lee Enterprises reports strong digital growth ...</td>\n",
       "      <td>Digital-only subscribers grew 57%; exceeds hal...</td>\n",
       "    </tr>\n",
       "    <tr>\n",
       "      <th>8040</th>\n",
       "      <td>5543</td>\n",
       "      <td>International_Finance</td>\n",
       "      <td>Fuel for Thought: Persian Gulf energy producer...</td>\n",
       "      <td>Geopolitics has jumped ahead of market fundame...</td>\n",
       "    </tr>\n",
       "    <tr>\n",
       "      <th>8041</th>\n",
       "      <td>2792</td>\n",
       "      <td>Earning_Reports</td>\n",
       "      <td>Tesla's entire year hinges on answering one bi...</td>\n",
       "      <td>Tesla reports second-quarter earnings on Wedne...</td>\n",
       "    </tr>\n",
       "  </tbody>\n",
       "</table>\n",
       "<p>8042 rows × 4 columns</p>\n",
       "</div>"
      ],
      "text/plain": [
       "         id               category  \\\n",
       "0      5639  International_Finance   \n",
       "1      2673        Earning_Reports   \n",
       "2      2056            Commodities   \n",
       "3      3455                Economy   \n",
       "4      4406                  Fraud   \n",
       "...     ...                    ...   \n",
       "8037  10024            Real_Estate   \n",
       "8038    167                Capital   \n",
       "8039   2533        Earning_Reports   \n",
       "8040   5543  International_Finance   \n",
       "8041   2792        Earning_Reports   \n",
       "\n",
       "                                                  title  \\\n",
       "0     How Has Devaluation of the Yuan Impacted Globa...   \n",
       "1     Qorvo® Announces Fiscal 2022 Third Quarter Fin...   \n",
       "2     Why Gatos Silver Stock Fell Another 15.5% at t...   \n",
       "3     Healthcare industry expects Budget 2022 to hik...   \n",
       "4     American FX Fund CEO Sent to Jail for Running ...   \n",
       "...                                                 ...   \n",
       "8037  United Real Estate expands to Alabama with 2nd...   \n",
       "8038  CTDOT Marks Transit Equity Day 2022 with Commi...   \n",
       "8039  Lee Enterprises reports strong digital growth ...   \n",
       "8040  Fuel for Thought: Persian Gulf energy producer...   \n",
       "8041  Tesla's entire year hinges on answering one bi...   \n",
       "\n",
       "                                                   body  \n",
       "0     How Has the Devaluation of the Yuan Impacted G...  \n",
       "1     GREENSBORO, N.C., Feb. 02, 2022 (GLOBE NEWSWIR...  \n",
       "2     Shares of Gatos Silver (NYSE:GATO) fell 15.5% ...  \n",
       "3     Healthcare industry expects Budget 2022 to hik...  \n",
       "4     The U.S Federal Bureau of Investigation (FBI) ...  \n",
       "...                                                 ...  \n",
       "8037  Dallas-based brokerage and franchisor United R...  \n",
       "8038  (Newington, CT) - The Connecticut Department o...  \n",
       "8039  Digital-only subscribers grew 57%; exceeds hal...  \n",
       "8040  Geopolitics has jumped ahead of market fundame...  \n",
       "8041  Tesla reports second-quarter earnings on Wedne...  \n",
       "\n",
       "[8042 rows x 4 columns]"
      ]
     },
     "execution_count": 23,
     "metadata": {},
     "output_type": "execute_result"
    }
   ],
   "source": [
    "corpus_df = pd.read_csv('CSV_files/training_data.csv')\n",
    "corpus_df"
   ]
  },
  {
   "cell_type": "code",
   "execution_count": 8,
   "metadata": {
    "colab": {
     "base_uri": "https://localhost:8080/"
    },
    "id": "At8ktELApMru",
    "outputId": "66221371-2166-4f73-e387-abc609fdaf80"
   },
   "outputs": [
    {
     "data": {
      "text/plain": [
       "id          8042\n",
       "category    8042\n",
       "title       8041\n",
       "body        8042\n",
       "dtype: int64"
      ]
     },
     "execution_count": 8,
     "metadata": {},
     "output_type": "execute_result"
    }
   ],
   "source": [
    "corpus_df.count()"
   ]
  },
  {
   "cell_type": "code",
   "execution_count": 9,
   "metadata": {
    "colab": {
     "base_uri": "https://localhost:8080/"
    },
    "id": "UDqXNjVpoh-J",
    "outputId": "4fbfb19c-aec5-4956-8907-1bdcf1f9ebf1"
   },
   "outputs": [
    {
     "data": {
      "text/plain": [
       "array(['International_Finance', 'Earning_Reports', 'Commodities',\n",
       "       'Economy', 'Fraud', 'Mergers_Acquisitions', 'Policy', 'Oil',\n",
       "       'Capital', 'Litigation', 'Real_Estate'], dtype=object)"
      ]
     },
     "execution_count": 9,
     "metadata": {},
     "output_type": "execute_result"
    }
   ],
   "source": [
    "corpus_df['category'].unique()"
   ]
  },
  {
   "cell_type": "code",
   "execution_count": 10,
   "metadata": {
    "id": "VkDqdp6FpKLv"
   },
   "outputs": [],
   "source": [
    "label_encoder = preprocessing.LabelEncoder()\n",
    "label_encoder.fit(corpus_df['category'])\n",
    "corpus_df['label'] = label_encoder.transform(corpus_df['category'])"
   ]
  },
  {
   "cell_type": "code",
   "execution_count": 11,
   "metadata": {
    "colab": {
     "base_uri": "https://localhost:8080/"
    },
    "id": "wU9IDjU8rh2w",
    "outputId": "b217903c-5b91-49a4-d759-3ceea397769e"
   },
   "outputs": [
    {
     "name": "stdout",
     "output_type": "stream",
     "text": [
      "label : is the new column\n"
     ]
    }
   ],
   "source": [
    "cols = corpus_df.columns\n",
    "print(f\"{cols.all()} : is the new column\")"
   ]
  },
  {
   "cell_type": "code",
   "execution_count": 12,
   "metadata": {
    "colab": {
     "base_uri": "https://localhost:8080/"
    },
    "id": "jLlhq5okrZ-h",
    "outputId": "8fdff34a-0cab-4cb3-90f6-3fd7ad8fd3b6"
   },
   "outputs": [
    {
     "data": {
      "text/plain": [
       "array([ 5,  2,  1,  3,  4,  7,  9,  8,  0,  6, 10])"
      ]
     },
     "execution_count": 12,
     "metadata": {},
     "output_type": "execute_result"
    }
   ],
   "source": [
    "corpus_df['label'].unique()"
   ]
  },
  {
   "cell_type": "code",
   "execution_count": 13,
   "metadata": {
    "colab": {
     "base_uri": "https://localhost:8080/",
     "height": 468
    },
    "id": "-2wuf3KLsGk3",
    "outputId": "47ac00cc-3a94-4cf9-af00-4b73c110c5f2"
   },
   "outputs": [
    {
     "data": {
      "text/html": [
       "<div>\n",
       "<style scoped>\n",
       "    .dataframe tbody tr th:only-of-type {\n",
       "        vertical-align: middle;\n",
       "    }\n",
       "\n",
       "    .dataframe tbody tr th {\n",
       "        vertical-align: top;\n",
       "    }\n",
       "\n",
       "    .dataframe thead th {\n",
       "        text-align: right;\n",
       "    }\n",
       "</style>\n",
       "<table border=\"1\" class=\"dataframe\">\n",
       "  <thead>\n",
       "    <tr style=\"text-align: right;\">\n",
       "      <th></th>\n",
       "      <th>id</th>\n",
       "      <th>category</th>\n",
       "      <th>title</th>\n",
       "      <th>body</th>\n",
       "      <th>label</th>\n",
       "    </tr>\n",
       "  </thead>\n",
       "  <tbody>\n",
       "    <tr>\n",
       "      <th>0</th>\n",
       "      <td>5639</td>\n",
       "      <td>International_Finance</td>\n",
       "      <td>How Has Devaluation of the Yuan Impacted Globa...</td>\n",
       "      <td>How Has the Devaluation of the Yuan Impacted G...</td>\n",
       "      <td>5</td>\n",
       "    </tr>\n",
       "    <tr>\n",
       "      <th>1</th>\n",
       "      <td>2673</td>\n",
       "      <td>Earning_Reports</td>\n",
       "      <td>Qorvo® Announces Fiscal 2022 Third Quarter Fin...</td>\n",
       "      <td>GREENSBORO, N.C., Feb. 02, 2022 (GLOBE NEWSWIR...</td>\n",
       "      <td>2</td>\n",
       "    </tr>\n",
       "    <tr>\n",
       "      <th>2</th>\n",
       "      <td>2056</td>\n",
       "      <td>Commodities</td>\n",
       "      <td>Why Gatos Silver Stock Fell Another 15.5% at t...</td>\n",
       "      <td>Shares of Gatos Silver (NYSE:GATO) fell 15.5% ...</td>\n",
       "      <td>1</td>\n",
       "    </tr>\n",
       "    <tr>\n",
       "      <th>3</th>\n",
       "      <td>3455</td>\n",
       "      <td>Economy</td>\n",
       "      <td>Healthcare industry expects Budget 2022 to hik...</td>\n",
       "      <td>Healthcare industry expects Budget 2022 to hik...</td>\n",
       "      <td>3</td>\n",
       "    </tr>\n",
       "    <tr>\n",
       "      <th>4</th>\n",
       "      <td>4406</td>\n",
       "      <td>Fraud</td>\n",
       "      <td>American FX Fund CEO Sent to Jail for Running ...</td>\n",
       "      <td>The U.S Federal Bureau of Investigation (FBI) ...</td>\n",
       "      <td>4</td>\n",
       "    </tr>\n",
       "    <tr>\n",
       "      <th>...</th>\n",
       "      <td>...</td>\n",
       "      <td>...</td>\n",
       "      <td>...</td>\n",
       "      <td>...</td>\n",
       "      <td>...</td>\n",
       "    </tr>\n",
       "    <tr>\n",
       "      <th>8037</th>\n",
       "      <td>10024</td>\n",
       "      <td>Real_Estate</td>\n",
       "      <td>United Real Estate expands to Alabama with 2nd...</td>\n",
       "      <td>Dallas-based brokerage and franchisor United R...</td>\n",
       "      <td>10</td>\n",
       "    </tr>\n",
       "    <tr>\n",
       "      <th>8038</th>\n",
       "      <td>167</td>\n",
       "      <td>Capital</td>\n",
       "      <td>CTDOT Marks Transit Equity Day 2022 with Commi...</td>\n",
       "      <td>(Newington, CT) - The Connecticut Department o...</td>\n",
       "      <td>0</td>\n",
       "    </tr>\n",
       "    <tr>\n",
       "      <th>8039</th>\n",
       "      <td>2533</td>\n",
       "      <td>Earning_Reports</td>\n",
       "      <td>Lee Enterprises reports strong digital growth ...</td>\n",
       "      <td>Digital-only subscribers grew 57%; exceeds hal...</td>\n",
       "      <td>2</td>\n",
       "    </tr>\n",
       "    <tr>\n",
       "      <th>8040</th>\n",
       "      <td>5543</td>\n",
       "      <td>International_Finance</td>\n",
       "      <td>Fuel for Thought: Persian Gulf energy producer...</td>\n",
       "      <td>Geopolitics has jumped ahead of market fundame...</td>\n",
       "      <td>5</td>\n",
       "    </tr>\n",
       "    <tr>\n",
       "      <th>8041</th>\n",
       "      <td>2792</td>\n",
       "      <td>Earning_Reports</td>\n",
       "      <td>Tesla's entire year hinges on answering one bi...</td>\n",
       "      <td>Tesla reports second-quarter earnings on Wedne...</td>\n",
       "      <td>2</td>\n",
       "    </tr>\n",
       "  </tbody>\n",
       "</table>\n",
       "<p>8042 rows × 5 columns</p>\n",
       "</div>"
      ],
      "text/plain": [
       "         id               category  \\\n",
       "0      5639  International_Finance   \n",
       "1      2673        Earning_Reports   \n",
       "2      2056            Commodities   \n",
       "3      3455                Economy   \n",
       "4      4406                  Fraud   \n",
       "...     ...                    ...   \n",
       "8037  10024            Real_Estate   \n",
       "8038    167                Capital   \n",
       "8039   2533        Earning_Reports   \n",
       "8040   5543  International_Finance   \n",
       "8041   2792        Earning_Reports   \n",
       "\n",
       "                                                  title  \\\n",
       "0     How Has Devaluation of the Yuan Impacted Globa...   \n",
       "1     Qorvo® Announces Fiscal 2022 Third Quarter Fin...   \n",
       "2     Why Gatos Silver Stock Fell Another 15.5% at t...   \n",
       "3     Healthcare industry expects Budget 2022 to hik...   \n",
       "4     American FX Fund CEO Sent to Jail for Running ...   \n",
       "...                                                 ...   \n",
       "8037  United Real Estate expands to Alabama with 2nd...   \n",
       "8038  CTDOT Marks Transit Equity Day 2022 with Commi...   \n",
       "8039  Lee Enterprises reports strong digital growth ...   \n",
       "8040  Fuel for Thought: Persian Gulf energy producer...   \n",
       "8041  Tesla's entire year hinges on answering one bi...   \n",
       "\n",
       "                                                   body  label  \n",
       "0     How Has the Devaluation of the Yuan Impacted G...      5  \n",
       "1     GREENSBORO, N.C., Feb. 02, 2022 (GLOBE NEWSWIR...      2  \n",
       "2     Shares of Gatos Silver (NYSE:GATO) fell 15.5% ...      1  \n",
       "3     Healthcare industry expects Budget 2022 to hik...      3  \n",
       "4     The U.S Federal Bureau of Investigation (FBI) ...      4  \n",
       "...                                                 ...    ...  \n",
       "8037  Dallas-based brokerage and franchisor United R...     10  \n",
       "8038  (Newington, CT) - The Connecticut Department o...      0  \n",
       "8039  Digital-only subscribers grew 57%; exceeds hal...      2  \n",
       "8040  Geopolitics has jumped ahead of market fundame...      5  \n",
       "8041  Tesla reports second-quarter earnings on Wedne...      2  \n",
       "\n",
       "[8042 rows x 5 columns]"
      ]
     },
     "execution_count": 13,
     "metadata": {},
     "output_type": "execute_result"
    }
   ],
   "source": [
    "corpus_df"
   ]
  },
  {
   "cell_type": "code",
   "execution_count": 21,
   "metadata": {
    "id": "t1Ia9hM5sRQX"
   },
   "outputs": [
    {
     "data": {
      "text/plain": [
       "TfidfVectorizer(max_features=1000, stop_words='english')"
      ]
     },
     "execution_count": 21,
     "metadata": {},
     "output_type": "execute_result"
    }
   ],
   "source": [
    "vectorizer = TfidfVectorizer(stop_words = 'english', max_features=1000)\n",
    "vectorizer"
   ]
  },
  {
   "cell_type": "code",
   "execution_count": 15,
   "metadata": {
    "id": "gzuj6MxLsssk"
   },
   "outputs": [],
   "source": [
    "x = corpus_df['body']\n",
    "y = corpus_df['label']"
   ]
  },
  {
   "cell_type": "code",
   "execution_count": 22,
   "metadata": {
    "id": "G3P04bm5tFmr"
   },
   "outputs": [
    {
     "data": {
      "text/plain": [
       "<8042x1000 sparse matrix of type '<class 'numpy.float64'>'\n",
       "\twith 766085 stored elements in Compressed Sparse Row format>"
      ]
     },
     "execution_count": 22,
     "metadata": {},
     "output_type": "execute_result"
    }
   ],
   "source": [
    "verctorized_body = vectorizer.fit_transform(x)\n",
    "verctorized_body"
   ]
  },
  {
   "cell_type": "code",
   "execution_count": 17,
   "metadata": {
    "id": "CcruQbGGtUNk"
   },
   "outputs": [],
   "source": [
    "rf_clf = RandomForestClassifier()"
   ]
  },
  {
   "cell_type": "code",
   "execution_count": 18,
   "metadata": {
    "colab": {
     "base_uri": "https://localhost:8080/"
    },
    "id": "6ggGuUpJtex7",
    "outputId": "810bd19a-d608-48cc-ea79-fbfc4e6694c7"
   },
   "outputs": [
    {
     "data": {
      "text/plain": [
       "RandomForestClassifier()"
      ]
     },
     "execution_count": 18,
     "metadata": {},
     "output_type": "execute_result"
    }
   ],
   "source": [
    "rf_clf.fit(verctorized_body, y)"
   ]
  },
  {
   "cell_type": "code",
   "execution_count": 20,
   "metadata": {
    "id": "KhOUpjgjtxbS"
   },
   "outputs": [],
   "source": [
    "pickle.dump(rf_clf, open('pickle_files/text_classifier.pkl', 'wb'))\n",
    "pickle.dump(vectorizer, open('pickle_files/text_vectorizer.pkl', 'wb'))\n",
    "pickle.dump(label_encoder, open('pickle_files/text_encoder.pkl', 'wb'))"
   ]
  }
 ],
 "metadata": {
  "colab": {
   "name": "ml_model.ipynb",
   "provenance": [],
   "toc_visible": true
  },
  "kernelspec": {
   "display_name": "Python 3 (ipykernel)",
   "language": "python",
   "name": "python3"
  },
  "language_info": {
   "codemirror_mode": {
    "name": "ipython",
    "version": 3
   },
   "file_extension": ".py",
   "mimetype": "text/x-python",
   "name": "python",
   "nbconvert_exporter": "python",
   "pygments_lexer": "ipython3",
   "version": "3.9.12"
  }
 },
 "nbformat": 4,
 "nbformat_minor": 4
}
