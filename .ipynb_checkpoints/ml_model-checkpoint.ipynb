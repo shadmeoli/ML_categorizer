{
  "nbformat": 4,
  "nbformat_minor": 0,
  "metadata": {
    "colab": {
      "name": "ml_model.ipynb",
      "provenance": [],
      "toc_visible": true
    },
    "kernelspec": {
      "name": "python3",
      "display_name": "Python 3"
    },
    "language_info": {
      "name": "python"
    }
  },
  "cells": [
    {
      "cell_type": "code",
      "execution_count": 22,
      "metadata": {
        "id": "veoyEDgcrcg_"
      },
      "outputs": [],
      "source": [
        "from sklearn.feature_extraction.text import TfidfVectorizer\n",
        "from sklearn.ensemble import RandomForestClassifier\n",
        "from sklearn import preprocessing\n",
        "import pandas as pd\n",
        "import json\n",
        "import pickle"
      ]
    },
    {
      "cell_type": "code",
      "source": [
        "corpus_df = pd.read_csv('/content/training_data.csv')"
      ],
      "metadata": {
        "id": "lp_n6hPnl9ek"
      },
      "execution_count": 23,
      "outputs": []
    },
    {
      "cell_type": "code",
      "source": [
        "corpus_df.count()"
      ],
      "metadata": {
        "colab": {
          "base_uri": "https://localhost:8080/"
        },
        "id": "At8ktELApMru",
        "outputId": "66221371-2166-4f73-e387-abc609fdaf80"
      },
      "execution_count": 33,
      "outputs": [
        {
          "output_type": "execute_result",
          "data": {
            "text/plain": [
              "id          8042\n",
              "category    8042\n",
              "title       8041\n",
              "body        8042\n",
              "dtype: int64"
            ]
          },
          "metadata": {},
          "execution_count": 33
        }
      ]
    },
    {
      "cell_type": "code",
      "source": [
        "corpus_df['category'].unique()"
      ],
      "metadata": {
        "colab": {
          "base_uri": "https://localhost:8080/"
        },
        "id": "UDqXNjVpoh-J",
        "outputId": "4fbfb19c-aec5-4956-8907-1bdcf1f9ebf1"
      },
      "execution_count": 30,
      "outputs": [
        {
          "output_type": "execute_result",
          "data": {
            "text/plain": [
              "array(['International_Finance', 'Earning_Reports', 'Commodities',\n",
              "       'Economy', 'Fraud', 'Mergers_Acquisitions', 'Policy', 'Oil',\n",
              "       'Capital', 'Litigation', 'Real_Estate'], dtype=object)"
            ]
          },
          "metadata": {},
          "execution_count": 30
        }
      ]
    },
    {
      "cell_type": "code",
      "source": [
        "label_encoder = preprocessing.LabelEncoder()\n",
        "label_encoder.fit(corpus_df['category'])\n",
        "corpus_df['label'] = label_encoder.transform(corpus_df['category'])"
      ],
      "metadata": {
        "id": "VkDqdp6FpKLv"
      },
      "execution_count": 34,
      "outputs": []
    },
    {
      "cell_type": "code",
      "source": [
        "cols = corpus_df.columns\n",
        "print(f\"{cols.all()} : is the new column\")"
      ],
      "metadata": {
        "colab": {
          "base_uri": "https://localhost:8080/"
        },
        "id": "wU9IDjU8rh2w",
        "outputId": "b217903c-5b91-49a4-d759-3ceea397769e"
      },
      "execution_count": 41,
      "outputs": [
        {
          "output_type": "stream",
          "name": "stdout",
          "text": [
            "label : is the new column\n"
          ]
        }
      ]
    },
    {
      "cell_type": "code",
      "source": [
        "corpus_df['label'].unique()"
      ],
      "metadata": {
        "colab": {
          "base_uri": "https://localhost:8080/"
        },
        "id": "jLlhq5okrZ-h",
        "outputId": "8fdff34a-0cab-4cb3-90f6-3fd7ad8fd3b6"
      },
      "execution_count": 42,
      "outputs": [
        {
          "output_type": "execute_result",
          "data": {
            "text/plain": [
              "array([ 5,  2,  1,  3,  4,  7,  9,  8,  0,  6, 10])"
            ]
          },
          "metadata": {},
          "execution_count": 42
        }
      ]
    },
    {
      "cell_type": "code",
      "source": [
        "corpus_df"
      ],
      "metadata": {
        "colab": {
          "base_uri": "https://localhost:8080/",
          "height": 468
        },
        "id": "-2wuf3KLsGk3",
        "outputId": "47ac00cc-3a94-4cf9-af00-4b73c110c5f2"
      },
      "execution_count": 43,
      "outputs": [
        {
          "output_type": "execute_result",
          "data": {
            "text/plain": [
              "         id               category  \\\n",
              "0      5639  International_Finance   \n",
              "1      2673        Earning_Reports   \n",
              "2      2056            Commodities   \n",
              "3      3455                Economy   \n",
              "4      4406                  Fraud   \n",
              "...     ...                    ...   \n",
              "8037  10024            Real_Estate   \n",
              "8038    167                Capital   \n",
              "8039   2533        Earning_Reports   \n",
              "8040   5543  International_Finance   \n",
              "8041   2792        Earning_Reports   \n",
              "\n",
              "                                                  title  \\\n",
              "0     How Has Devaluation of the Yuan Impacted Globa...   \n",
              "1     Qorvo® Announces Fiscal 2022 Third Quarter Fin...   \n",
              "2     Why Gatos Silver Stock Fell Another 15.5% at t...   \n",
              "3     Healthcare industry expects Budget 2022 to hik...   \n",
              "4     American FX Fund CEO Sent to Jail for Running ...   \n",
              "...                                                 ...   \n",
              "8037  United Real Estate expands to Alabama with 2nd...   \n",
              "8038  CTDOT Marks Transit Equity Day 2022 with Commi...   \n",
              "8039  Lee Enterprises reports strong digital growth ...   \n",
              "8040  Fuel for Thought: Persian Gulf energy producer...   \n",
              "8041  Tesla's entire year hinges on answering one bi...   \n",
              "\n",
              "                                                   body  label  \n",
              "0     How Has the Devaluation of the Yuan Impacted G...      5  \n",
              "1     GREENSBORO, N.C., Feb. 02, 2022 (GLOBE NEWSWIR...      2  \n",
              "2     Shares of Gatos Silver (NYSE:GATO) fell 15.5% ...      1  \n",
              "3     Healthcare industry expects Budget 2022 to hik...      3  \n",
              "4     The U.S Federal Bureau of Investigation (FBI) ...      4  \n",
              "...                                                 ...    ...  \n",
              "8037  Dallas-based brokerage and franchisor United R...     10  \n",
              "8038  (Newington, CT) - The Connecticut Department o...      0  \n",
              "8039  Digital-only subscribers grew 57%; exceeds hal...      2  \n",
              "8040  Geopolitics has jumped ahead of market fundame...      5  \n",
              "8041  Tesla reports second-quarter earnings on Wedne...      2  \n",
              "\n",
              "[8042 rows x 5 columns]"
            ],
            "text/html": [
              "\n",
              "  <div id=\"df-3b4355f5-3586-409c-ac67-29ba02dd8d48\">\n",
              "    <div class=\"colab-df-container\">\n",
              "      <div>\n",
              "<style scoped>\n",
              "    .dataframe tbody tr th:only-of-type {\n",
              "        vertical-align: middle;\n",
              "    }\n",
              "\n",
              "    .dataframe tbody tr th {\n",
              "        vertical-align: top;\n",
              "    }\n",
              "\n",
              "    .dataframe thead th {\n",
              "        text-align: right;\n",
              "    }\n",
              "</style>\n",
              "<table border=\"1\" class=\"dataframe\">\n",
              "  <thead>\n",
              "    <tr style=\"text-align: right;\">\n",
              "      <th></th>\n",
              "      <th>id</th>\n",
              "      <th>category</th>\n",
              "      <th>title</th>\n",
              "      <th>body</th>\n",
              "      <th>label</th>\n",
              "    </tr>\n",
              "  </thead>\n",
              "  <tbody>\n",
              "    <tr>\n",
              "      <th>0</th>\n",
              "      <td>5639</td>\n",
              "      <td>International_Finance</td>\n",
              "      <td>How Has Devaluation of the Yuan Impacted Globa...</td>\n",
              "      <td>How Has the Devaluation of the Yuan Impacted G...</td>\n",
              "      <td>5</td>\n",
              "    </tr>\n",
              "    <tr>\n",
              "      <th>1</th>\n",
              "      <td>2673</td>\n",
              "      <td>Earning_Reports</td>\n",
              "      <td>Qorvo® Announces Fiscal 2022 Third Quarter Fin...</td>\n",
              "      <td>GREENSBORO, N.C., Feb. 02, 2022 (GLOBE NEWSWIR...</td>\n",
              "      <td>2</td>\n",
              "    </tr>\n",
              "    <tr>\n",
              "      <th>2</th>\n",
              "      <td>2056</td>\n",
              "      <td>Commodities</td>\n",
              "      <td>Why Gatos Silver Stock Fell Another 15.5% at t...</td>\n",
              "      <td>Shares of Gatos Silver (NYSE:GATO) fell 15.5% ...</td>\n",
              "      <td>1</td>\n",
              "    </tr>\n",
              "    <tr>\n",
              "      <th>3</th>\n",
              "      <td>3455</td>\n",
              "      <td>Economy</td>\n",
              "      <td>Healthcare industry expects Budget 2022 to hik...</td>\n",
              "      <td>Healthcare industry expects Budget 2022 to hik...</td>\n",
              "      <td>3</td>\n",
              "    </tr>\n",
              "    <tr>\n",
              "      <th>4</th>\n",
              "      <td>4406</td>\n",
              "      <td>Fraud</td>\n",
              "      <td>American FX Fund CEO Sent to Jail for Running ...</td>\n",
              "      <td>The U.S Federal Bureau of Investigation (FBI) ...</td>\n",
              "      <td>4</td>\n",
              "    </tr>\n",
              "    <tr>\n",
              "      <th>...</th>\n",
              "      <td>...</td>\n",
              "      <td>...</td>\n",
              "      <td>...</td>\n",
              "      <td>...</td>\n",
              "      <td>...</td>\n",
              "    </tr>\n",
              "    <tr>\n",
              "      <th>8037</th>\n",
              "      <td>10024</td>\n",
              "      <td>Real_Estate</td>\n",
              "      <td>United Real Estate expands to Alabama with 2nd...</td>\n",
              "      <td>Dallas-based brokerage and franchisor United R...</td>\n",
              "      <td>10</td>\n",
              "    </tr>\n",
              "    <tr>\n",
              "      <th>8038</th>\n",
              "      <td>167</td>\n",
              "      <td>Capital</td>\n",
              "      <td>CTDOT Marks Transit Equity Day 2022 with Commi...</td>\n",
              "      <td>(Newington, CT) - The Connecticut Department o...</td>\n",
              "      <td>0</td>\n",
              "    </tr>\n",
              "    <tr>\n",
              "      <th>8039</th>\n",
              "      <td>2533</td>\n",
              "      <td>Earning_Reports</td>\n",
              "      <td>Lee Enterprises reports strong digital growth ...</td>\n",
              "      <td>Digital-only subscribers grew 57%; exceeds hal...</td>\n",
              "      <td>2</td>\n",
              "    </tr>\n",
              "    <tr>\n",
              "      <th>8040</th>\n",
              "      <td>5543</td>\n",
              "      <td>International_Finance</td>\n",
              "      <td>Fuel for Thought: Persian Gulf energy producer...</td>\n",
              "      <td>Geopolitics has jumped ahead of market fundame...</td>\n",
              "      <td>5</td>\n",
              "    </tr>\n",
              "    <tr>\n",
              "      <th>8041</th>\n",
              "      <td>2792</td>\n",
              "      <td>Earning_Reports</td>\n",
              "      <td>Tesla's entire year hinges on answering one bi...</td>\n",
              "      <td>Tesla reports second-quarter earnings on Wedne...</td>\n",
              "      <td>2</td>\n",
              "    </tr>\n",
              "  </tbody>\n",
              "</table>\n",
              "<p>8042 rows × 5 columns</p>\n",
              "</div>\n",
              "      <button class=\"colab-df-convert\" onclick=\"convertToInteractive('df-3b4355f5-3586-409c-ac67-29ba02dd8d48')\"\n",
              "              title=\"Convert this dataframe to an interactive table.\"\n",
              "              style=\"display:none;\">\n",
              "        \n",
              "  <svg xmlns=\"http://www.w3.org/2000/svg\" height=\"24px\"viewBox=\"0 0 24 24\"\n",
              "       width=\"24px\">\n",
              "    <path d=\"M0 0h24v24H0V0z\" fill=\"none\"/>\n",
              "    <path d=\"M18.56 5.44l.94 2.06.94-2.06 2.06-.94-2.06-.94-.94-2.06-.94 2.06-2.06.94zm-11 1L8.5 8.5l.94-2.06 2.06-.94-2.06-.94L8.5 2.5l-.94 2.06-2.06.94zm10 10l.94 2.06.94-2.06 2.06-.94-2.06-.94-.94-2.06-.94 2.06-2.06.94z\"/><path d=\"M17.41 7.96l-1.37-1.37c-.4-.4-.92-.59-1.43-.59-.52 0-1.04.2-1.43.59L10.3 9.45l-7.72 7.72c-.78.78-.78 2.05 0 2.83L4 21.41c.39.39.9.59 1.41.59.51 0 1.02-.2 1.41-.59l7.78-7.78 2.81-2.81c.8-.78.8-2.07 0-2.86zM5.41 20L4 18.59l7.72-7.72 1.47 1.35L5.41 20z\"/>\n",
              "  </svg>\n",
              "      </button>\n",
              "      \n",
              "  <style>\n",
              "    .colab-df-container {\n",
              "      display:flex;\n",
              "      flex-wrap:wrap;\n",
              "      gap: 12px;\n",
              "    }\n",
              "\n",
              "    .colab-df-convert {\n",
              "      background-color: #E8F0FE;\n",
              "      border: none;\n",
              "      border-radius: 50%;\n",
              "      cursor: pointer;\n",
              "      display: none;\n",
              "      fill: #1967D2;\n",
              "      height: 32px;\n",
              "      padding: 0 0 0 0;\n",
              "      width: 32px;\n",
              "    }\n",
              "\n",
              "    .colab-df-convert:hover {\n",
              "      background-color: #E2EBFA;\n",
              "      box-shadow: 0px 1px 2px rgba(60, 64, 67, 0.3), 0px 1px 3px 1px rgba(60, 64, 67, 0.15);\n",
              "      fill: #174EA6;\n",
              "    }\n",
              "\n",
              "    [theme=dark] .colab-df-convert {\n",
              "      background-color: #3B4455;\n",
              "      fill: #D2E3FC;\n",
              "    }\n",
              "\n",
              "    [theme=dark] .colab-df-convert:hover {\n",
              "      background-color: #434B5C;\n",
              "      box-shadow: 0px 1px 3px 1px rgba(0, 0, 0, 0.15);\n",
              "      filter: drop-shadow(0px 1px 2px rgba(0, 0, 0, 0.3));\n",
              "      fill: #FFFFFF;\n",
              "    }\n",
              "  </style>\n",
              "\n",
              "      <script>\n",
              "        const buttonEl =\n",
              "          document.querySelector('#df-3b4355f5-3586-409c-ac67-29ba02dd8d48 button.colab-df-convert');\n",
              "        buttonEl.style.display =\n",
              "          google.colab.kernel.accessAllowed ? 'block' : 'none';\n",
              "\n",
              "        async function convertToInteractive(key) {\n",
              "          const element = document.querySelector('#df-3b4355f5-3586-409c-ac67-29ba02dd8d48');\n",
              "          const dataTable =\n",
              "            await google.colab.kernel.invokeFunction('convertToInteractive',\n",
              "                                                     [key], {});\n",
              "          if (!dataTable) return;\n",
              "\n",
              "          const docLinkHtml = 'Like what you see? Visit the ' +\n",
              "            '<a target=\"_blank\" href=https://colab.research.google.com/notebooks/data_table.ipynb>data table notebook</a>'\n",
              "            + ' to learn more about interactive tables.';\n",
              "          element.innerHTML = '';\n",
              "          dataTable['output_type'] = 'display_data';\n",
              "          await google.colab.output.renderOutput(dataTable, element);\n",
              "          const docLink = document.createElement('div');\n",
              "          docLink.innerHTML = docLinkHtml;\n",
              "          element.appendChild(docLink);\n",
              "        }\n",
              "      </script>\n",
              "    </div>\n",
              "  </div>\n",
              "  "
            ]
          },
          "metadata": {},
          "execution_count": 43
        }
      ]
    },
    {
      "cell_type": "code",
      "source": [
        "vectorizer = TfidfVectorizer(stop_words = 'english', max_features=1000)"
      ],
      "metadata": {
        "id": "t1Ia9hM5sRQX"
      },
      "execution_count": 44,
      "outputs": []
    },
    {
      "cell_type": "code",
      "source": [
        "x = corpus_df['body']\n",
        "y = corpus_df['label']"
      ],
      "metadata": {
        "id": "gzuj6MxLsssk"
      },
      "execution_count": 45,
      "outputs": []
    },
    {
      "cell_type": "code",
      "source": [
        "verctorized_body = vectorizer.fit_transform(x)"
      ],
      "metadata": {
        "id": "G3P04bm5tFmr"
      },
      "execution_count": 46,
      "outputs": []
    },
    {
      "cell_type": "code",
      "source": [
        "rf_clf = RandomForestClassifier()"
      ],
      "metadata": {
        "id": "CcruQbGGtUNk"
      },
      "execution_count": 48,
      "outputs": []
    },
    {
      "cell_type": "code",
      "source": [
        "rf_clf.fit(verctorized_body, y)"
      ],
      "metadata": {
        "colab": {
          "base_uri": "https://localhost:8080/"
        },
        "id": "6ggGuUpJtex7",
        "outputId": "810bd19a-d608-48cc-ea79-fbfc4e6694c7"
      },
      "execution_count": 50,
      "outputs": [
        {
          "output_type": "execute_result",
          "data": {
            "text/plain": [
              "RandomForestClassifier()"
            ]
          },
          "metadata": {},
          "execution_count": 50
        }
      ]
    },
    {
      "cell_type": "code",
      "source": [
        "pickle.dump(rf_clf, open('text_classifier.pkl', 'wb'))\n",
        "pickle.dump(vectorizer, open('text_vectorizer.pkl', 'wb'))\n",
        "pickle.dump(label_encoder, open('text_encoder.pkl', 'wb'))"
      ],
      "metadata": {
        "id": "KhOUpjgjtxbS"
      },
      "execution_count": 53,
      "outputs": []
    }
  ]
}